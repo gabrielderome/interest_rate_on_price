{
 "cells": [
  {
   "cell_type": "code",
   "execution_count": 1,
   "metadata": {},
   "outputs": [],
   "source": [
    "import pandas as pd\n",
    "import os\n",
    "from utils import *\n",
    "from aggregations import *"
   ]
  },
  {
   "cell_type": "code",
   "execution_count": 2,
   "metadata": {},
   "outputs": [],
   "source": [
    "data_dict = {\n",
    "    \"pib_par_industrie\": {\n",
    "        \"path\": os.path.join(\"data\", \"stats_can\", \"pib_par_industrie.csv\"),\n",
    "        \"gran:\": \"industrie and monthly\",\n",
    "        \"date_range\": [\"199701\", \"202312\"],\n",
    "        \"nom\": \"pib_par_industrie\",\n",
    "        \"delimiter\": \",\",\n",
    "        \"select\": {\n",
    "            \"REF_DATE\": \"CalendarMonth\",\n",
    "            \"North American Industry Classification System (NAICS)\": \"industry\",\n",
    "            \"VALUE\": \"PIB_par_industrie\",\n",
    "        }\n",
    "    },\n",
    "    \"investissement_construction\": {\n",
    "        \"path\": os.path.join(\"data\", \"stats_can\", \"investissement_construction.csv\"),\n",
    "        \"gran:\": \"monthly\",\n",
    "        \"date_range\": [\"201701\", \"202312\"],\n",
    "        \"nom\": \"investissement_construction\",\n",
    "        \"delimiter\": \";\",\n",
    "        \"select\": {\n",
    "            \"PÉRIODE DE RÉFÉRENCE\": \"CalendarMonth\",\n",
    "            \"Type de structure\": \"structure_type\",\n",
    "            \"VALEUR\": \"inverstissement_construction\"\n",
    "        }\n",
    "    },\n",
    "    \"construction_par_region\": {\n",
    "        \"path\": os.path.join(\"data\", \"stats_can\", \"construction_par_region.csv\"),\n",
    "        \"gran:\": \"yearly, par region\",\n",
    "        \"date_range\": [\"200501\", \"202312\"],\n",
    "        \"nom\": \"construction_par_region\",\n",
    "        \"delimiter\": \";\",\n",
    "        \"select\": {\n",
    "            \"PÉRIODE DE RÉFÉRENCE\": \"CalendarYear\",\n",
    "            \"Estimations de logement\": \"construction_status\",\n",
    "            \"Type d'unité\": \"construction_unit_type\",\n",
    "            \"VALEUR\": \"unit_count\",\n",
    "        }\n",
    "    },\n",
    "    \"indice_de_prix_logements\": {\n",
    "        \"path\": os.path.join(\"data\", \"stats_can\", \"indice_de_prix_logements.csv\"),\n",
    "        \"gran:\": \"monthly\",\n",
    "        \"date_range\": [\"200501\", \"202312\"],\n",
    "        \"nom\": \"indice_de_prix_logements\",\n",
    "        \"delimiter\": \";\",\n",
    "        \"select\": {\n",
    "            \"PÉRIODE DE RÉFÉRENCE\": \"CalendarMonth\",\n",
    "            \"Indices des prix des logements neufs\": \"new_housing_price_index\",\n",
    "            \"VALEUR\": \"indice_de_prix_logements\",\n",
    "        }\n",
    "    },\n",
    "    \"taux_hypothecaire_terme_5ans\": {\n",
    "        \"path\": os.path.join(\"data\", \"stats_can\", \"taux_hypothecaire_terme_5ans.csv\"),\n",
    "        \"gran:\": \"monthly\",\n",
    "        \"date_range\": [\"200501\", \"202312\"],\n",
    "        \"nom\": \"taux_hypothecaire_terme_5ans\",\n",
    "        \"delimiter\": \";\",\n",
    "        \"select\": {\n",
    "            \"PÉRIODE DE RÉFÉRENCE\": \"CalendarMonth\",\n",
    "            \"VALEUR\": \"taux_hypothecaire_terme_5ans\",\n",
    "        }\n",
    "    },\n",
    "    \"demographic_growth\":{\n",
    "        \"path\": os.path.join(\"data\", \"stats_can\", \"demographic_growth.csv\"),\n",
    "        \"gran\": \"yearly\",\n",
    "        \"date_range\": [\"1998\", \"2023\"],\n",
    "        \"nom\": \"demographic_growth\",\n",
    "        \"delimiter\": \",\",\n",
    "        \"select\": {\n",
    "            \"REF_DATE\": \"REF_DATE\",\n",
    "            \"Components of population growth\": \"Components of population growth\",\n",
    "            \"VALUE\": \"VALUE\",\n",
    "        }\n",
    "    }    \n",
    "}"
   ]
  },
  {
   "cell_type": "code",
   "execution_count": 3,
   "metadata": {},
   "outputs": [
    {
     "name": "stdout",
     "output_type": "stream",
     "text": [
      "                                                                                                    \n",
      "pib_par_industrie\n",
      "Index(['CalendarMonth', 'industry', 'PIB_par_industrie'], dtype='object')\n",
      "Index(['CalendarMonth', 'All industries [T001]', 'Construction [23]',\n",
      "       'Energy sector [T016]', 'Finance and insurance [52]',\n",
      "       'Public Sector [T018]', 'Real estate and rental and leasing [53]',\n",
      "       'Transportation and warehousing [48-49]'],\n",
      "      dtype='object', name='industry')\n",
      "                                                                                                    \n",
      "investissement_construction\n",
      "Index(['CalendarMonth', 'structure_type', 'inverstissement_construction'], dtype='object')\n"
     ]
    },
    {
     "ename": "KeyError",
     "evalue": "\"['work_type'] not found in axis\"",
     "output_type": "error",
     "traceback": [
      "\u001b[1;31m---------------------------------------------------------------------------\u001b[0m",
      "\u001b[1;31mKeyError\u001b[0m                                  Traceback (most recent call last)",
      "Cell \u001b[1;32mIn[3], line 18\u001b[0m\n\u001b[0;32m     16\u001b[0m     \u001b[38;5;28mprint\u001b[39m(df\u001b[38;5;241m.\u001b[39mcolumns)\n\u001b[0;32m     17\u001b[0m     df \u001b[38;5;241m=\u001b[39m extract_year(df)\n\u001b[1;32m---> 18\u001b[0m     df \u001b[38;5;241m=\u001b[39m \u001b[43magg_investissement\u001b[49m\u001b[43m(\u001b[49m\u001b[43mdf\u001b[49m\u001b[43m)\u001b[49m\n\u001b[0;32m     19\u001b[0m \u001b[38;5;28;01mif\u001b[39;00m table \u001b[38;5;241m==\u001b[39m \u001b[38;5;124m\"\u001b[39m\u001b[38;5;124mconstruction_par_region\u001b[39m\u001b[38;5;124m\"\u001b[39m:\n\u001b[0;32m     20\u001b[0m     \u001b[38;5;28mprint\u001b[39m(df\u001b[38;5;241m.\u001b[39mcolumns)\n",
      "File \u001b[1;32mc:\\Users\\Gabriel\\Documents\\code_derome\\interest_rate_on_price\\data_and_cleaning\\aggregations.py:28\u001b[0m, in \u001b[0;36magg_investissement\u001b[1;34m(df)\u001b[0m\n\u001b[0;32m     26\u001b[0m df \u001b[38;5;241m=\u001b[39m df\u001b[38;5;241m.\u001b[39mreset_index()\n\u001b[0;32m     27\u001b[0m \u001b[38;5;66;03m# drop index column\u001b[39;00m\n\u001b[1;32m---> 28\u001b[0m df \u001b[38;5;241m=\u001b[39m \u001b[43mdf\u001b[49m\u001b[38;5;241;43m.\u001b[39;49m\u001b[43mdrop\u001b[49m\u001b[43m(\u001b[49m\u001b[43mcolumns\u001b[49m\u001b[38;5;241;43m=\u001b[39;49m\u001b[43m[\u001b[49m\u001b[38;5;124;43m\"\u001b[39;49m\u001b[38;5;124;43mstructure_type\u001b[39;49m\u001b[38;5;124;43m\"\u001b[39;49m\u001b[43m,\u001b[49m\u001b[43m \u001b[49m\u001b[38;5;124;43m\"\u001b[39;49m\u001b[38;5;124;43mwork_type\u001b[39;49m\u001b[38;5;124;43m\"\u001b[39;49m\u001b[43m,\u001b[49m\u001b[43m \u001b[49m\u001b[38;5;124;43m\"\u001b[39;49m\u001b[38;5;124;43mindex\u001b[39;49m\u001b[38;5;124;43m\"\u001b[39;49m\u001b[43m]\u001b[49m\u001b[43m)\u001b[49m\n\u001b[0;32m     29\u001b[0m \u001b[38;5;28;01mreturn\u001b[39;00m df\n",
      "File \u001b[1;32mc:\\Users\\Gabriel\\anaconda3\\lib\\site-packages\\pandas\\util\\_decorators.py:331\u001b[0m, in \u001b[0;36mdeprecate_nonkeyword_arguments.<locals>.decorate.<locals>.wrapper\u001b[1;34m(*args, **kwargs)\u001b[0m\n\u001b[0;32m    325\u001b[0m \u001b[38;5;28;01mif\u001b[39;00m \u001b[38;5;28mlen\u001b[39m(args) \u001b[38;5;241m>\u001b[39m num_allow_args:\n\u001b[0;32m    326\u001b[0m     warnings\u001b[38;5;241m.\u001b[39mwarn(\n\u001b[0;32m    327\u001b[0m         msg\u001b[38;5;241m.\u001b[39mformat(arguments\u001b[38;5;241m=\u001b[39m_format_argument_list(allow_args)),\n\u001b[0;32m    328\u001b[0m         \u001b[38;5;167;01mFutureWarning\u001b[39;00m,\n\u001b[0;32m    329\u001b[0m         stacklevel\u001b[38;5;241m=\u001b[39mfind_stack_level(),\n\u001b[0;32m    330\u001b[0m     )\n\u001b[1;32m--> 331\u001b[0m \u001b[38;5;28;01mreturn\u001b[39;00m func(\u001b[38;5;241m*\u001b[39margs, \u001b[38;5;241m*\u001b[39m\u001b[38;5;241m*\u001b[39mkwargs)\n",
      "File \u001b[1;32mc:\\Users\\Gabriel\\anaconda3\\lib\\site-packages\\pandas\\core\\frame.py:5399\u001b[0m, in \u001b[0;36mDataFrame.drop\u001b[1;34m(self, labels, axis, index, columns, level, inplace, errors)\u001b[0m\n\u001b[0;32m   5251\u001b[0m \u001b[38;5;129m@deprecate_nonkeyword_arguments\u001b[39m(version\u001b[38;5;241m=\u001b[39m\u001b[38;5;28;01mNone\u001b[39;00m, allowed_args\u001b[38;5;241m=\u001b[39m[\u001b[38;5;124m\"\u001b[39m\u001b[38;5;124mself\u001b[39m\u001b[38;5;124m\"\u001b[39m, \u001b[38;5;124m\"\u001b[39m\u001b[38;5;124mlabels\u001b[39m\u001b[38;5;124m\"\u001b[39m])\n\u001b[0;32m   5252\u001b[0m \u001b[38;5;28;01mdef\u001b[39;00m \u001b[38;5;21mdrop\u001b[39m(  \u001b[38;5;66;03m# type: ignore[override]\u001b[39;00m\n\u001b[0;32m   5253\u001b[0m     \u001b[38;5;28mself\u001b[39m,\n\u001b[1;32m   (...)\u001b[0m\n\u001b[0;32m   5260\u001b[0m     errors: IgnoreRaise \u001b[38;5;241m=\u001b[39m \u001b[38;5;124m\"\u001b[39m\u001b[38;5;124mraise\u001b[39m\u001b[38;5;124m\"\u001b[39m,\n\u001b[0;32m   5261\u001b[0m ) \u001b[38;5;241m-\u001b[39m\u001b[38;5;241m>\u001b[39m DataFrame \u001b[38;5;241m|\u001b[39m \u001b[38;5;28;01mNone\u001b[39;00m:\n\u001b[0;32m   5262\u001b[0m     \u001b[38;5;124;03m\"\"\"\u001b[39;00m\n\u001b[0;32m   5263\u001b[0m \u001b[38;5;124;03m    Drop specified labels from rows or columns.\u001b[39;00m\n\u001b[0;32m   5264\u001b[0m \n\u001b[1;32m   (...)\u001b[0m\n\u001b[0;32m   5397\u001b[0m \u001b[38;5;124;03m            weight  1.0     0.8\u001b[39;00m\n\u001b[0;32m   5398\u001b[0m \u001b[38;5;124;03m    \"\"\"\u001b[39;00m\n\u001b[1;32m-> 5399\u001b[0m     \u001b[38;5;28;01mreturn\u001b[39;00m \u001b[38;5;28;43msuper\u001b[39;49m\u001b[43m(\u001b[49m\u001b[43m)\u001b[49m\u001b[38;5;241;43m.\u001b[39;49m\u001b[43mdrop\u001b[49m\u001b[43m(\u001b[49m\n\u001b[0;32m   5400\u001b[0m \u001b[43m        \u001b[49m\u001b[43mlabels\u001b[49m\u001b[38;5;241;43m=\u001b[39;49m\u001b[43mlabels\u001b[49m\u001b[43m,\u001b[49m\n\u001b[0;32m   5401\u001b[0m \u001b[43m        \u001b[49m\u001b[43maxis\u001b[49m\u001b[38;5;241;43m=\u001b[39;49m\u001b[43maxis\u001b[49m\u001b[43m,\u001b[49m\n\u001b[0;32m   5402\u001b[0m \u001b[43m        \u001b[49m\u001b[43mindex\u001b[49m\u001b[38;5;241;43m=\u001b[39;49m\u001b[43mindex\u001b[49m\u001b[43m,\u001b[49m\n\u001b[0;32m   5403\u001b[0m \u001b[43m        \u001b[49m\u001b[43mcolumns\u001b[49m\u001b[38;5;241;43m=\u001b[39;49m\u001b[43mcolumns\u001b[49m\u001b[43m,\u001b[49m\n\u001b[0;32m   5404\u001b[0m \u001b[43m        \u001b[49m\u001b[43mlevel\u001b[49m\u001b[38;5;241;43m=\u001b[39;49m\u001b[43mlevel\u001b[49m\u001b[43m,\u001b[49m\n\u001b[0;32m   5405\u001b[0m \u001b[43m        \u001b[49m\u001b[43minplace\u001b[49m\u001b[38;5;241;43m=\u001b[39;49m\u001b[43minplace\u001b[49m\u001b[43m,\u001b[49m\n\u001b[0;32m   5406\u001b[0m \u001b[43m        \u001b[49m\u001b[43merrors\u001b[49m\u001b[38;5;241;43m=\u001b[39;49m\u001b[43merrors\u001b[49m\u001b[43m,\u001b[49m\n\u001b[0;32m   5407\u001b[0m \u001b[43m    \u001b[49m\u001b[43m)\u001b[49m\n",
      "File \u001b[1;32mc:\\Users\\Gabriel\\anaconda3\\lib\\site-packages\\pandas\\util\\_decorators.py:331\u001b[0m, in \u001b[0;36mdeprecate_nonkeyword_arguments.<locals>.decorate.<locals>.wrapper\u001b[1;34m(*args, **kwargs)\u001b[0m\n\u001b[0;32m    325\u001b[0m \u001b[38;5;28;01mif\u001b[39;00m \u001b[38;5;28mlen\u001b[39m(args) \u001b[38;5;241m>\u001b[39m num_allow_args:\n\u001b[0;32m    326\u001b[0m     warnings\u001b[38;5;241m.\u001b[39mwarn(\n\u001b[0;32m    327\u001b[0m         msg\u001b[38;5;241m.\u001b[39mformat(arguments\u001b[38;5;241m=\u001b[39m_format_argument_list(allow_args)),\n\u001b[0;32m    328\u001b[0m         \u001b[38;5;167;01mFutureWarning\u001b[39;00m,\n\u001b[0;32m    329\u001b[0m         stacklevel\u001b[38;5;241m=\u001b[39mfind_stack_level(),\n\u001b[0;32m    330\u001b[0m     )\n\u001b[1;32m--> 331\u001b[0m \u001b[38;5;28;01mreturn\u001b[39;00m func(\u001b[38;5;241m*\u001b[39margs, \u001b[38;5;241m*\u001b[39m\u001b[38;5;241m*\u001b[39mkwargs)\n",
      "File \u001b[1;32mc:\\Users\\Gabriel\\anaconda3\\lib\\site-packages\\pandas\\core\\generic.py:4505\u001b[0m, in \u001b[0;36mNDFrame.drop\u001b[1;34m(self, labels, axis, index, columns, level, inplace, errors)\u001b[0m\n\u001b[0;32m   4503\u001b[0m \u001b[38;5;28;01mfor\u001b[39;00m axis, labels \u001b[38;5;129;01min\u001b[39;00m axes\u001b[38;5;241m.\u001b[39mitems():\n\u001b[0;32m   4504\u001b[0m     \u001b[38;5;28;01mif\u001b[39;00m labels \u001b[38;5;129;01mis\u001b[39;00m \u001b[38;5;129;01mnot\u001b[39;00m \u001b[38;5;28;01mNone\u001b[39;00m:\n\u001b[1;32m-> 4505\u001b[0m         obj \u001b[38;5;241m=\u001b[39m \u001b[43mobj\u001b[49m\u001b[38;5;241;43m.\u001b[39;49m\u001b[43m_drop_axis\u001b[49m\u001b[43m(\u001b[49m\u001b[43mlabels\u001b[49m\u001b[43m,\u001b[49m\u001b[43m \u001b[49m\u001b[43maxis\u001b[49m\u001b[43m,\u001b[49m\u001b[43m \u001b[49m\u001b[43mlevel\u001b[49m\u001b[38;5;241;43m=\u001b[39;49m\u001b[43mlevel\u001b[49m\u001b[43m,\u001b[49m\u001b[43m \u001b[49m\u001b[43merrors\u001b[49m\u001b[38;5;241;43m=\u001b[39;49m\u001b[43merrors\u001b[49m\u001b[43m)\u001b[49m\n\u001b[0;32m   4507\u001b[0m \u001b[38;5;28;01mif\u001b[39;00m inplace:\n\u001b[0;32m   4508\u001b[0m     \u001b[38;5;28mself\u001b[39m\u001b[38;5;241m.\u001b[39m_update_inplace(obj)\n",
      "File \u001b[1;32mc:\\Users\\Gabriel\\anaconda3\\lib\\site-packages\\pandas\\core\\generic.py:4546\u001b[0m, in \u001b[0;36mNDFrame._drop_axis\u001b[1;34m(self, labels, axis, level, errors, only_slice)\u001b[0m\n\u001b[0;32m   4544\u001b[0m         new_axis \u001b[38;5;241m=\u001b[39m axis\u001b[38;5;241m.\u001b[39mdrop(labels, level\u001b[38;5;241m=\u001b[39mlevel, errors\u001b[38;5;241m=\u001b[39merrors)\n\u001b[0;32m   4545\u001b[0m     \u001b[38;5;28;01melse\u001b[39;00m:\n\u001b[1;32m-> 4546\u001b[0m         new_axis \u001b[38;5;241m=\u001b[39m \u001b[43maxis\u001b[49m\u001b[38;5;241;43m.\u001b[39;49m\u001b[43mdrop\u001b[49m\u001b[43m(\u001b[49m\u001b[43mlabels\u001b[49m\u001b[43m,\u001b[49m\u001b[43m \u001b[49m\u001b[43merrors\u001b[49m\u001b[38;5;241;43m=\u001b[39;49m\u001b[43merrors\u001b[49m\u001b[43m)\u001b[49m\n\u001b[0;32m   4547\u001b[0m     indexer \u001b[38;5;241m=\u001b[39m axis\u001b[38;5;241m.\u001b[39mget_indexer(new_axis)\n\u001b[0;32m   4549\u001b[0m \u001b[38;5;66;03m# Case for non-unique axis\u001b[39;00m\n\u001b[0;32m   4550\u001b[0m \u001b[38;5;28;01melse\u001b[39;00m:\n",
      "File \u001b[1;32mc:\\Users\\Gabriel\\anaconda3\\lib\\site-packages\\pandas\\core\\indexes\\base.py:6934\u001b[0m, in \u001b[0;36mIndex.drop\u001b[1;34m(self, labels, errors)\u001b[0m\n\u001b[0;32m   6932\u001b[0m \u001b[38;5;28;01mif\u001b[39;00m mask\u001b[38;5;241m.\u001b[39many():\n\u001b[0;32m   6933\u001b[0m     \u001b[38;5;28;01mif\u001b[39;00m errors \u001b[38;5;241m!=\u001b[39m \u001b[38;5;124m\"\u001b[39m\u001b[38;5;124mignore\u001b[39m\u001b[38;5;124m\"\u001b[39m:\n\u001b[1;32m-> 6934\u001b[0m         \u001b[38;5;28;01mraise\u001b[39;00m \u001b[38;5;167;01mKeyError\u001b[39;00m(\u001b[38;5;124mf\u001b[39m\u001b[38;5;124m\"\u001b[39m\u001b[38;5;132;01m{\u001b[39;00m\u001b[38;5;28mlist\u001b[39m(labels[mask])\u001b[38;5;132;01m}\u001b[39;00m\u001b[38;5;124m not found in axis\u001b[39m\u001b[38;5;124m\"\u001b[39m)\n\u001b[0;32m   6935\u001b[0m     indexer \u001b[38;5;241m=\u001b[39m indexer[\u001b[38;5;241m~\u001b[39mmask]\n\u001b[0;32m   6936\u001b[0m \u001b[38;5;28;01mreturn\u001b[39;00m \u001b[38;5;28mself\u001b[39m\u001b[38;5;241m.\u001b[39mdelete(indexer)\n",
      "\u001b[1;31mKeyError\u001b[0m: \"['work_type'] not found in axis\""
     ]
    }
   ],
   "source": [
    "output_dict = {}\n",
    "id = 0\n",
    "for table, table_info in data_dict.items():\n",
    "    id += 1\n",
    "    df = load_table(table_info[\"path\"], table_info[\"delimiter\"])\n",
    "    df = select_rename_columns(df, table_info[\"select\"])\n",
    "    output_dict[table] = df\n",
    "    # print the name of the table\n",
    "    print(\" \" * 100)    \n",
    "    print(table)\n",
    "    if table == \"pib_par_industrie\":\n",
    "        print(df.columns)\n",
    "        df = extract_year(df)        \n",
    "        df = agg_pib(df)\n",
    "    if table == \"investissement_construction\":\n",
    "        print(df.columns)\n",
    "        df = extract_year(df)\n",
    "        df = agg_investissement(df)\n",
    "    if table == \"construction_par_region\":\n",
    "        print(df.columns)\n",
    "        df = extract_year(df)\n",
    "        df = agg_construction(df)\n",
    "    if table == \"indice_de_prix_logements\":\n",
    "        print(df.columns)\n",
    "        df = extract_year(df)\n",
    "        df = agg_price_index(df)\n",
    "    if table == \"demographic_growth\":\n",
    "        print(df.columns)\n",
    "        df = extract_year(df)\n",
    "        df = agg_demo(df)\n",
    "    # print(get_date_range(df))\n",
    "    # print(df.shape[0])\n",
    "    # print(df.head(5))\n",
    "    print(df.columns)\n",
    "    df = extract_year(df)\n",
    "\n",
    "    output_dict[table] = df"
   ]
  },
  {
   "cell_type": "code",
   "execution_count": null,
   "metadata": {},
   "outputs": [],
   "source": [
    "\n",
    "joined_df = output_dict[\"pib_par_industrie\"].merge(output_dict[\"investissement_construction\"], on=\"CalendarMonth\", how=\"outer\")\n",
    "joined_df[\"CalendarYear\"] = joined_df[\"CalendarMonth\"].apply(lambda x: x[:4])\n",
    "joined_df[\"CalendarYear\"] = joined_df[\"CalendarYear\"].astype(int)\n",
    "joined_df = joined_df.merge(output_dict[\"construction_par_region\"], on=\"CalendarYear\", how=\"outer\")\n",
    "joined_df = joined_df.merge(output_dict[\"indice_de_prix_logements\"], on=\"CalendarMonth\", how=\"outer\")\n",
    "joined_df = joined_df.merge(output_dict[\"taux_hypothecaire_terme_5ans\"], on=\"CalendarMonth\", how=\"outer\")\n",
    "joined_df = joined_df.merge(output_dict[\"demographic_growth\"], on=\"CalendarYear\", how=\"outer\")\n",
    "\n",
    "\n",
    "rename_list = [\n",
    "    (\"All industries [T001]\", \"PIB_all_industries\"),\n",
    "    (\"Construction [23]\", \"PIB_construction\"),\n",
    "    (\"Energy sector [T016]\", \"PIB_energy\"),\n",
    "    (\"Finance and insurance [52]\", \"PIB_finance_insurance\"),\n",
    "    (\"Public Sector [T018]\", \"PIB_public_sector\"),\n",
    "    (\"Real estate and rental and leasing [53]\", \"PIB_real_estate\"),\n",
    "    (\"Transportation and warehousing [48-49]\", \"PIB_transportation\"),\n",
    "    (\"inverstissement_construction\", \"inverstissement_construction\"),\n",
    "    (\"unit_count\", \"construction_unit_count\"),\n",
    "    (\"Maison seulement\", \"house_only_price_index\"),\n",
    "    (\"Terrain seulement\", \"land_only_price_index\"),\n",
    "    (\"Total (maison et terrain)\", \"price_index_total\"),\n",
    "    ]\n",
    "for x in rename_list:\n",
    "    joined_df = joined_df.rename(columns={x[0]: x[1]})"
   ]
  },
  {
   "cell_type": "code",
   "execution_count": null,
   "metadata": {},
   "outputs": [],
   "source": [
    "print(joined_df.columns)\n",
    "print(joined_df.shape[0])"
   ]
  },
  {
   "cell_type": "code",
   "execution_count": null,
   "metadata": {},
   "outputs": [],
   "source": [
    "joined_df"
   ]
  },
  {
   "cell_type": "code",
   "execution_count": null,
   "metadata": {},
   "outputs": [],
   "source": [
    "save_table(joined_df, \"joined_data\")"
   ]
  },
  {
   "cell_type": "code",
   "execution_count": null,
   "metadata": {},
   "outputs": [],
   "source": [
    "test_df = load_table(\"cleaned_data\\joined_data.csv\", \",\")\n",
    "test_df"
   ]
  },
  {
   "cell_type": "code",
   "execution_count": null,
   "metadata": {},
   "outputs": [],
   "source": [
    "# select inverstissement_construction from output_dict[\"investissement_construction\"]\n",
    "inv_df = output_dict[\"investissement_construction\"]"
   ]
  },
  {
   "cell_type": "code",
   "execution_count": null,
   "metadata": {},
   "outputs": [],
   "source": [
    "inv_df"
   ]
  },
  {
   "cell_type": "code",
   "execution_count": null,
   "metadata": {},
   "outputs": [],
   "source": [
    "test_inv_df = load_table(\"data/stats_can/investissement_construction.csv\", \";\")"
   ]
  },
  {
   "cell_type": "code",
   "execution_count": null,
   "metadata": {},
   "outputs": [],
   "source": [
    "# print all columns from load_table\n",
    "# print(test_inv_df.columns)\n",
    "# print unique values in Type de structure\n",
    "# print(test_inv_df[\"Type de structure\"].unique())\n",
    "# print all unique values in Type de travaux\n",
    "print(len(test_inv_df[\"Type de travaux\"].unique()))"
   ]
  },
  {
   "cell_type": "code",
   "execution_count": null,
   "metadata": {},
   "outputs": [],
   "source": []
  }
 ],
 "metadata": {
  "kernelspec": {
   "display_name": "base",
   "language": "python",
   "name": "python3"
  },
  "language_info": {
   "codemirror_mode": {
    "name": "ipython",
    "version": 3
   },
   "file_extension": ".py",
   "mimetype": "text/x-python",
   "name": "python",
   "nbconvert_exporter": "python",
   "pygments_lexer": "ipython3",
   "version": "3.10.9"
  }
 },
 "nbformat": 4,
 "nbformat_minor": 2
}
