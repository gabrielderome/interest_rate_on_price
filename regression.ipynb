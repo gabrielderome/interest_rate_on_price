{
 "cells": [
  {
   "cell_type": "code",
   "execution_count": 1,
   "metadata": {},
   "outputs": [],
   "source": [
    "import pandas as pd\n",
    "import numpy as np\n",
    "import matplotlib.pyplot as plt\n",
    "import seaborn as sns\n",
    "import statsmodels.api as sm\n",
    "from data_and_cleaning.utils import *"
   ]
  },
  {
   "cell_type": "code",
   "execution_count": 17,
   "metadata": {},
   "outputs": [],
   "source": [
    "df = load_table(\"data_and_cleaning\\cleaned_data\\joined_data.csv\")\n",
    "col_list = [\n",
    "    # \"CalendarMonth\", \n",
    "    \"price_index_total\",\n",
    "    \"taux_hypothecaire_terme_5ans\",\n",
    "    \"construction_unit_count\",\n",
    "    \"Births\",\n",
    "    \"Emigrants\",\n",
    "    \"Immigrants\",\n",
    "]\n",
    "df_full = df[col_list].dropna()\n",
    "# df1 = df[col_list].dropna().drop(columns=[\"inverstissement_construction\", \"construction_unit_count\"])"
   ]
  },
  {
   "cell_type": "code",
   "execution_count": 18,
   "metadata": {},
   "outputs": [
    {
     "name": "stdout",
     "output_type": "stream",
     "text": [
      "                            OLS Regression Results                            \n",
      "==============================================================================\n",
      "Dep. Variable:      price_index_total   R-squared:                       0.739\n",
      "Model:                            OLS   Adj. R-squared:                  0.733\n",
      "Method:                 Least Squares   F-statistic:                     119.2\n",
      "Date:                Sat, 16 Mar 2024   Prob (F-statistic):           2.53e-59\n",
      "Time:                        12:25:51   Log-Likelihood:                -706.41\n",
      "No. Observations:                 216   AIC:                             1425.\n",
      "Df Residuals:                     210   BIC:                             1445.\n",
      "Df Model:                           5                                         \n",
      "Covariance Type:            nonrobust                                         \n",
      "================================================================================================\n",
      "                                   coef    std err          t      P>|t|      [0.025      0.975]\n",
      "------------------------------------------------------------------------------------------------\n",
      "const                          346.3360     47.379      7.310      0.000     252.937     439.735\n",
      "taux_hypothecaire_terme_5ans    -2.7437      0.749     -3.662      0.000      -4.221      -1.267\n",
      "construction_unit_count         -0.0039      0.001     -6.006      0.000      -0.005      -0.003\n",
      "Births                          -0.0006      0.000     -5.563      0.000      -0.001      -0.000\n",
      "Emigrants                        0.0001   3.25e-05      3.347      0.001    4.48e-05       0.000\n",
      "Immigrants                       0.0001    8.6e-06     12.520      0.000    9.07e-05       0.000\n",
      "==============================================================================\n",
      "Omnibus:                       36.683   Durbin-Watson:                   0.137\n",
      "Prob(Omnibus):                  0.000   Jarque-Bera (JB):               63.432\n",
      "Skew:                           0.896   Prob(JB):                     1.68e-14\n",
      "Kurtosis:                       4.958   Cond. No.                     5.10e+07\n",
      "==============================================================================\n",
      "\n",
      "Notes:\n",
      "[1] Standard Errors assume that the covariance matrix of the errors is correctly specified.\n",
      "[2] The condition number is large, 5.1e+07. This might indicate that there are\n",
      "strong multicollinearity or other numerical problems.\n"
     ]
    }
   ],
   "source": [
    "# compute a linear regression on df_full, price_index_total being the dependent variable\n",
    "Y = df_full[\"price_index_total\"]\n",
    "X = df_full.drop(columns=[\"price_index_total\"])\n",
    "X = sm.add_constant(X)\n",
    "model = sm.OLS(Y, X).fit()\n",
    "print(model.summary())"
   ]
  },
  {
   "cell_type": "code",
   "execution_count": null,
   "metadata": {},
   "outputs": [],
   "source": []
  }
 ],
 "metadata": {
  "kernelspec": {
   "display_name": "base",
   "language": "python",
   "name": "python3"
  },
  "language_info": {
   "codemirror_mode": {
    "name": "ipython",
    "version": 3
   },
   "file_extension": ".py",
   "mimetype": "text/x-python",
   "name": "python",
   "nbconvert_exporter": "python",
   "pygments_lexer": "ipython3",
   "version": "3.10.9"
  }
 },
 "nbformat": 4,
 "nbformat_minor": 2
}
